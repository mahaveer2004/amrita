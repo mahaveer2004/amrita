{
  "nbformat": 4,
  "nbformat_minor": 0,
  "metadata": {
    "colab": {
      "name": "FOAM ASSIGNMENT.ipynb",
      "provenance": [],
      "collapsed_sections": [],
      "authorship_tag": "ABX9TyOdYXSYx0liw1Y9CqM0Nt7B",
      "include_colab_link": true
    },
    "kernelspec": {
      "name": "python3",
      "display_name": "Python 3"
    },
    "language_info": {
      "name": "python"
    }
  },
  "cells": [
    {
      "cell_type": "markdown",
      "metadata": {
        "id": "view-in-github",
        "colab_type": "text"
      },
      "source": [
        "<a href=\"https://colab.research.google.com/github/mahaveer2004/amrita/blob/main/FOAM_ASSIGNMENT.ipynb\" target=\"_parent\"><img src=\"https://colab.research.google.com/assets/colab-badge.svg\" alt=\"Open In Colab\"/></a>"
      ]
    },
    {
      "cell_type": "markdown",
      "source": [
        "**1st PROBLEM**"
      ],
      "metadata": {
        "id": "cUaRdVumIJl6"
      }
    },
    {
      "cell_type": "code",
      "execution_count": null,
      "metadata": {
        "colab": {
          "base_uri": "https://localhost:8080/"
        },
        "id": "sYE5EI2aICY4",
        "outputId": "81578e34-367c-4e17-db0c-4309b302e4ae"
      },
      "outputs": [
        {
          "output_type": "stream",
          "name": "stdout",
          "text": [
            "31\n"
          ]
        }
      ],
      "source": [
        "from sympy import *\n",
        "x=symbols('x')\n",
        "str_expr=\"6*(x/3+9/2)\"\n",
        "expr=simplify(str_expr)\n",
        "expr\n",
        "\n",
        "evaluted =  expr.subs({x:2})\n",
        "print(evaluted)"
      ]
    },
    {
      "cell_type": "markdown",
      "source": [
        "**2. PROBLEM**"
      ],
      "metadata": {
        "id": "h9lkPVzpLThg"
      }
    },
    {
      "cell_type": "code",
      "source": [
        "from sympy import *\n",
        "p=symbols('p')\n",
        "ans= \"(-3*(-7*p)*(-5))\"\n",
        "expr=simplify(ans)\n",
        "expr\n",
        "\n",
        "evaluted =  expr.subs({p:2})\n",
        "print(evaluted)"
      ],
      "metadata": {
        "colab": {
          "base_uri": "https://localhost:8080/"
        },
        "id": "Yp7lf0YLLSS4",
        "outputId": "30417ed7-391c-4ef8-e6db-face8cebbea7"
      },
      "execution_count": null,
      "outputs": [
        {
          "output_type": "stream",
          "name": "stdout",
          "text": [
            "-210\n"
          ]
        }
      ]
    },
    {
      "cell_type": "markdown",
      "source": [
        "**3. PROBLEM**"
      ],
      "metadata": {
        "id": "TF_XMFjKMDi0"
      }
    },
    {
      "cell_type": "code",
      "source": [
        "ans = 3*(-4*(2+3)**2 + 2*(2-4)**3)-3\n",
        "ans"
      ],
      "metadata": {
        "colab": {
          "base_uri": "https://localhost:8080/"
        },
        "id": "Q-z6HWMJMItw",
        "outputId": "17a23b0c-43f5-4eed-9311-25179bc5b633"
      },
      "execution_count": null,
      "outputs": [
        {
          "output_type": "execute_result",
          "data": {
            "text/plain": [
              "-351"
            ]
          },
          "metadata": {},
          "execution_count": 2
        }
      ]
    },
    {
      "cell_type": "markdown",
      "source": [
        "**4. PROBLEM**"
      ],
      "metadata": {
        "id": "FEq_Ts83Nz2a"
      }
    },
    {
      "cell_type": "code",
      "source": [
        "ans= (10+9*2)/(12+2)\n",
        "ans"
      ],
      "metadata": {
        "colab": {
          "base_uri": "https://localhost:8080/"
        },
        "id": "Ho9Ue5ENN4YJ",
        "outputId": "8e6191be-3033-423c-cdb8-9080105d2697"
      },
      "execution_count": null,
      "outputs": [
        {
          "output_type": "execute_result",
          "data": {
            "text/plain": [
              "2.0"
            ]
          },
          "metadata": {},
          "execution_count": 3
        }
      ]
    }
  ]
}